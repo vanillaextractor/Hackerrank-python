{
 "cells": [
  {
   "cell_type": "code",
   "execution_count": 4,
   "id": "412298b0",
   "metadata": {},
   "outputs": [],
   "source": [
    "#python vedning machine hacker rank question\n",
    "class VendingMachine:\n",
    "    \n",
    "    def __init__(self, num_items, item_price):\n",
    "        self.item_price = item_price\n",
    "        self.num_items = num_items\n",
    "\n",
    "    def buy(self, req_items, money):\n",
    "        if req_items > self.num_items:\n",
    "            raise ValueError(\"Not enough items in the machine\")\n",
    "        \n",
    "        cost = req_items * self.item_price\n",
    "        \n",
    "        if money < cost:\n",
    "            raise ValueError(\"Not enough money\")\n",
    "        \n",
    "        change = money - cost\n",
    "        self.num_items -= req_items  # Subtract bought items\n",
    "        return change\n"
   ]
  },
  {
   "cell_type": "code",
   "execution_count": 5,
   "id": "ded646eb",
   "metadata": {},
   "outputs": [
    {
     "name": "stdout",
     "output_type": "stream",
     "text": [
      "Purchase successful. Your change: $2.50\n"
     ]
    }
   ],
   "source": [
    "vm = VendingMachine(num_items=10, item_price=2.5)\n",
    "\n",
    "try:\n",
    "    change = vm.buy(req_items=3, money=10)\n",
    "    print(f\"Purchase successful. Your change: ${change:.2f}\")\n",
    "except ValueError as e:\n",
    "    print(\"Error:\", e)\n"
   ]
  },
  {
   "cell_type": "code",
   "execution_count": null,
   "id": "90b92377",
   "metadata": {},
   "outputs": [],
   "source": [
    "#string transformation\n",
    "def transformSentence(sentence):\n",
    "    words = sentence.split()\n",
    "    transformed_words = []\n",
    "\n",
    "    for word in words:\n",
    "        new_word = word[0]  \n",
    "        for i in range(1, len(word)):\n",
    "            prev = word[i - 1].lower()\n",
    "            curr = word[i]\n",
    "            if prev < curr.lower():\n",
    "                new_word += curr.upper()\n",
    "            elif prev > curr.lower():\n",
    "                new_word += curr.lower()\n",
    "            else:\n",
    "                new_word += curr\n",
    "        transformed_words.append(new_word)\n",
    "\n",
    "    return ' '.join(transformed_words)\n"
   ]
  },
  {
   "cell_type": "code",
   "execution_count": 8,
   "id": "37232c5c",
   "metadata": {},
   "outputs": [
    {
     "name": "stdout",
     "output_type": "stream",
     "text": [
      "aBC DEF\n"
     ]
    }
   ],
   "source": [
    "print(transformSentence(\"abC Def\"))"
   ]
  },
  {
   "cell_type": "code",
   "execution_count": null,
   "id": "2abb1eb6",
   "metadata": {},
   "outputs": [],
   "source": []
  }
 ],
 "metadata": {
  "kernelspec": {
   "display_name": "Python 3",
   "language": "python",
   "name": "python3"
  },
  "language_info": {
   "codemirror_mode": {
    "name": "ipython",
    "version": 3
   },
   "file_extension": ".py",
   "mimetype": "text/x-python",
   "name": "python",
   "nbconvert_exporter": "python",
   "pygments_lexer": "ipython3",
   "version": "3.10.14"
  }
 },
 "nbformat": 4,
 "nbformat_minor": 5
}
